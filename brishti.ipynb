{
  "cells": [
    {
      "cell_type": "code",
      "execution_count": 1,
      "metadata": {},
      "outputs": [
        {
          "name": "stdout",
          "output_type": "stream",
          "text": [
            "Requirement already satisfied: requests in c:\\python\\lib\\site-packages (2.28.2)\n",
            "Requirement already satisfied: charset-normalizer<4,>=2 in c:\\python\\lib\\site-packages (from requests) (3.1.0)\n",
            "Requirement already satisfied: idna<4,>=2.5 in c:\\python\\lib\\site-packages (from requests) (3.4)\n",
            "Requirement already satisfied: urllib3<1.27,>=1.21.1 in c:\\python\\lib\\site-packages (from requests) (1.26.15)\n",
            "Requirement already satisfied: certifi>=2017.4.17 in c:\\python\\lib\\site-packages (from requests) (2022.12.7)\n"
          ]
        },
        {
          "name": "stderr",
          "output_type": "stream",
          "text": [
            "\n",
            "[notice] A new release of pip is available: 23.1 -> 23.1.2\n",
            "[notice] To update, run: python.exe -m pip install --upgrade pip\n"
          ]
        },
        {
          "name": "stdout",
          "output_type": "stream",
          "text": [
            "Requirement already satisfied: bs4 in c:\\python\\lib\\site-packages (0.0.1)\n",
            "Requirement already satisfied: beautifulsoup4 in c:\\python\\lib\\site-packages (from bs4) (4.12.2)\n",
            "Requirement already satisfied: soupsieve>1.2 in c:\\python\\lib\\site-packages (from beautifulsoup4->bs4) (2.4.1)\n"
          ]
        },
        {
          "name": "stderr",
          "output_type": "stream",
          "text": [
            "\n",
            "[notice] A new release of pip is available: 23.1 -> 23.1.2\n",
            "[notice] To update, run: python.exe -m pip install --upgrade pip\n"
          ]
        },
        {
          "name": "stdout",
          "output_type": "stream",
          "text": [
            "Requirement already satisfied: pd in c:\\python\\lib\\site-packages (0.0.4)"
          ]
        },
        {
          "name": "stderr",
          "output_type": "stream",
          "text": [
            "\n",
            "[notice] A new release of pip is available: 23.1 -> 23.1.2\n",
            "[notice] To update, run: python.exe -m pip install --upgrade pip\n"
          ]
        },
        {
          "name": "stdout",
          "output_type": "stream",
          "text": [
            "\n"
          ]
        }
      ],
      "source": [
        "! pip install requests\n",
        "! pip install bs4   \n",
        "! pip install pd"
      ]
    },
    {
      "cell_type": "code",
      "execution_count": 2,
      "metadata": {
        "id": "agWodrwgVeyw"
      },
      "outputs": [],
      "source": [
        "import requests\n",
        "import pandas as pd\n",
        "from bs4 import BeautifulSoup\n",
        "import re\n",
        "import os"
      ]
    },
    {
      "cell_type": "markdown",
      "metadata": {
        "id": "PcODLmRQewAk"
      },
      "source": [
        "# All State in One Code"
      ]
    },
    {
      "cell_type": "markdown",
      "metadata": {
        "id": "y3xLgA8ighiC"
      },
      "source": [
        "Generating Links dynamically"
      ]
    },
    {
      "cell_type": "code",
      "execution_count": 3,
      "metadata": {},
      "outputs": [],
      "source": [
        "base_url = \"https://www.medindia.net/patients/hospital_search/hospitals-\"\n",
        "states = [\n",
        "    #\"chandigarh\",\n",
        "    #\"chhattisgarh\",\n",
        "    #\"dadra-and-nagar-haveli\",\n",
        "    #\"daman-and-diu\",\n",
        "     #\"delhi\",\n",
        "    #\"puducherry\",\n",
        "     \"punjab\"\n",
        "]\n",
        "\n",
        "\n",
        "def generate_url(state, page):\n",
        "    urls = []\n",
        "    for p in range(1, page + 1):\n",
        "        formatted_state = state.lower().replace(\" \", \"-\")\n",
        "        if p == 1:\n",
        "            url = base_url + formatted_state + \".htm\"\n",
        "        else:\n",
        "            url = base_url + formatted_state + \"-\" + str(p) + \".htm\"\n",
        "        urls.append(url)\n",
        "    return urls\n"
      ]
    },
    {
      "cell_type": "code",
      "execution_count": 4,
      "metadata": {},
      "outputs": [],
      "source": [
        "def scrape_hospital_data(url):\n",
        "    response = requests.get(url)\n",
        "    soup = BeautifulSoup(response.content, 'html.parser')\n",
        "\n",
        "    hospital_divs = soup.find_all('h3', class_='vert-small-margin')\n",
        "    hospital_data = []\n",
        "\n",
        "    for hospital_div in hospital_divs:\n",
        "        hospital_detail = hospital_div.find('a').text.strip()\n",
        "        parts = [part.strip()\n",
        "                 for part in hospital_detail.split(',') if part.strip()]\n",
        "\n",
        "        name = parts[0] if len(parts) >= 1 else ''\n",
        "        city = parts[1] if len(parts) >= 2 else ''\n",
        "        state = parts[2] if len(parts) >= 3 else ''\n",
        "\n",
        "        hospital_data.append({\n",
        "            'Hospital Name': name,\n",
        "            'City': city.title(),\n",
        "            'State': state\n",
        "        })\n",
        "\n",
        "    df = pd.DataFrame(hospital_data)\n",
        "\n",
        "    # Extract the filename from the URL\n",
        "    fileName = re.search(r\"\\/hospitals-(.+?)(?:-\\d+)?\\.htm\", url).group(1)\n",
        "\n",
        "    if os.path.isfile(f'{fileName}.csv'):\n",
        "        # Append data without headers\n",
        "        df.to_csv(f'{fileName}.csv', mode='a', header=False, index=False)\n",
        "    else:\n",
        "        # Write data with headers\n",
        "        df.to_csv(f'{fileName}.csv', mode='a', header=True, index=False)\n",
        "\n",
        "\n",
        "for state in states:\n",
        "    for links in generate_url(state, 141):\n",
        "        scrape_hospital_data(links)\n"
      ]
    }
  ],
  "metadata": {
    "colab": {
      "provenance": []
    },
    "kernelspec": {
      "display_name": "Python 3",
      "name": "python3"
    },
    "language_info": {
      "codemirror_mode": {
        "name": "ipython",
        "version": 3
      },
      "file_extension": ".py",
      "mimetype": "text/x-python",
      "name": "python",
      "nbconvert_exporter": "python",
      "pygments_lexer": "ipython3",
      "version": "3.11.3"
    }
  },
  "nbformat": 4,
  "nbformat_minor": 0
}
